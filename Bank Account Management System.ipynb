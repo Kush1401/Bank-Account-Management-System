{
 "cells": [
  {
   "cell_type": "code",
   "execution_count": 1,
   "id": "510343e8-d006-4cdb-96e2-e69faef5f775",
   "metadata": {},
   "outputs": [
    {
     "name": "stdout",
     "output_type": "stream",
     "text": [
      "Requirement already satisfied: numpy in c:\\users\\kusha\\appdata\\local\\programs\\python\\python313\\lib\\site-packages (2.3.2)\n",
      "Note: you may need to restart the kernel to use updated packages.\n"
     ]
    },
    {
     "name": "stderr",
     "output_type": "stream",
     "text": [
      "\n",
      "[notice] A new release of pip is available: 25.1.1 -> 25.2\n",
      "[notice] To update, run: python.exe -m pip install --upgrade pip\n"
     ]
    }
   ],
   "source": [
    "pip install numpy"
   ]
  },
  {
   "cell_type": "code",
   "execution_count": 3,
   "id": "52b0b6a3-fc4b-4666-be1e-a9cc5e581709",
   "metadata": {},
   "outputs": [
    {
     "name": "stdout",
     "output_type": "stream",
     "text": [
      "\n",
      "===== Bank Account Management System =====\n",
      "1. Open New Account\n",
      "2. View Account Details\n",
      "3. Deposit\n",
      "4. Withdraw\n",
      "5. Transfer\n",
      "6. View Transaction History\n",
      "7. Transaction Summary\n",
      "8. Exit\n"
     ]
    },
    {
     "name": "stdin",
     "output_type": "stream",
     "text": [
      "Enter your choice (1-8):  1\n",
      "Enter account holder's name:  Abhishek Kumar\n",
      "Enter account type (savings/current):  savings\n",
      "Enter initial balance:  5000\n"
     ]
    },
    {
     "name": "stdout",
     "output_type": "stream",
     "text": [
      "\n",
      "Account created successfully! Your account number is: 1003\n",
      "\n",
      "===== Bank Account Management System =====\n",
      "1. Open New Account\n",
      "2. View Account Details\n",
      "3. Deposit\n",
      "4. Withdraw\n",
      "5. Transfer\n",
      "6. View Transaction History\n",
      "7. Transaction Summary\n",
      "8. Exit\n"
     ]
    },
    {
     "name": "stdin",
     "output_type": "stream",
     "text": [
      "Enter your choice (1-8):  2\n",
      "Enter account number:  1003\n"
     ]
    },
    {
     "name": "stdout",
     "output_type": "stream",
     "text": [
      "\n",
      "--- Account Details ---\n",
      "Name     : Abhishek Kumar\n",
      "Type     : savings\n",
      "Balance  : ₹5000.00\n",
      "\n",
      "===== Bank Account Management System =====\n",
      "1. Open New Account\n",
      "2. View Account Details\n",
      "3. Deposit\n",
      "4. Withdraw\n",
      "5. Transfer\n",
      "6. View Transaction History\n",
      "7. Transaction Summary\n",
      "8. Exit\n"
     ]
    },
    {
     "name": "stdin",
     "output_type": "stream",
     "text": [
      "Enter your choice (1-8):  3\n",
      "Enter account number:  1003\n",
      "Enter amount to deposit:  10000\n"
     ]
    },
    {
     "name": "stdout",
     "output_type": "stream",
     "text": [
      "Deposit successful.\n",
      "\n",
      "===== Bank Account Management System =====\n",
      "1. Open New Account\n",
      "2. View Account Details\n",
      "3. Deposit\n",
      "4. Withdraw\n",
      "5. Transfer\n",
      "6. View Transaction History\n",
      "7. Transaction Summary\n",
      "8. Exit\n"
     ]
    },
    {
     "name": "stdin",
     "output_type": "stream",
     "text": [
      "Enter your choice (1-8):  4\n",
      "Enter account number:  1003\n",
      "Enter amount to withdraw:  2000\n"
     ]
    },
    {
     "name": "stdout",
     "output_type": "stream",
     "text": [
      "Withdrawal successful.\n",
      "\n",
      "===== Bank Account Management System =====\n",
      "1. Open New Account\n",
      "2. View Account Details\n",
      "3. Deposit\n",
      "4. Withdraw\n",
      "5. Transfer\n",
      "6. View Transaction History\n",
      "7. Transaction Summary\n",
      "8. Exit\n"
     ]
    },
    {
     "name": "stdin",
     "output_type": "stream",
     "text": [
      "Enter your choice (1-8):  2\n",
      "Enter account number:  1003\n"
     ]
    },
    {
     "name": "stdout",
     "output_type": "stream",
     "text": [
      "\n",
      "--- Account Details ---\n",
      "Name     : Abhishek Kumar\n",
      "Type     : savings\n",
      "Balance  : ₹13000.00\n",
      "\n",
      "===== Bank Account Management System =====\n",
      "1. Open New Account\n",
      "2. View Account Details\n",
      "3. Deposit\n",
      "4. Withdraw\n",
      "5. Transfer\n",
      "6. View Transaction History\n",
      "7. Transaction Summary\n",
      "8. Exit\n"
     ]
    },
    {
     "name": "stdin",
     "output_type": "stream",
     "text": [
      "Enter your choice (1-8):  5\n",
      "Enter sender's account number:  1002\n",
      "Enter recipient's account number:  1003\n",
      "Enter amount to transfer:  7000\n"
     ]
    },
    {
     "name": "stdout",
     "output_type": "stream",
     "text": [
      "Insufficient funds.\n",
      "\n",
      "===== Bank Account Management System =====\n",
      "1. Open New Account\n",
      "2. View Account Details\n",
      "3. Deposit\n",
      "4. Withdraw\n",
      "5. Transfer\n",
      "6. View Transaction History\n",
      "7. Transaction Summary\n",
      "8. Exit\n"
     ]
    },
    {
     "name": "stdin",
     "output_type": "stream",
     "text": [
      "Enter your choice (1-8):  6\n",
      "Enter account number:  1002\n"
     ]
    },
    {
     "name": "stdout",
     "output_type": "stream",
     "text": [
      "\n",
      "--- Transaction History ---\n",
      "2025-08-12 01:43:28 | received | ₹4000.00 | To/From: 1001\n",
      "2025-08-13 01:21:03 | transfer | ₹5000.00 | To/From: 1001\n",
      "\n",
      "===== Bank Account Management System =====\n",
      "1. Open New Account\n",
      "2. View Account Details\n",
      "3. Deposit\n",
      "4. Withdraw\n",
      "5. Transfer\n",
      "6. View Transaction History\n",
      "7. Transaction Summary\n",
      "8. Exit\n"
     ]
    },
    {
     "name": "stdin",
     "output_type": "stream",
     "text": [
      "Enter your choice (1-8):  7\n",
      "Enter account number:  1002\n"
     ]
    },
    {
     "name": "stdout",
     "output_type": "stream",
     "text": [
      "\n",
      "--- Transaction Summary ---\n",
      "Total Deposits     : ₹0.00\n",
      "Total Withdrawals  : ₹0.00\n",
      "Average Transaction: ₹4500.00\n",
      "\n",
      "===== Bank Account Management System =====\n",
      "1. Open New Account\n",
      "2. View Account Details\n",
      "3. Deposit\n",
      "4. Withdraw\n",
      "5. Transfer\n",
      "6. View Transaction History\n",
      "7. Transaction Summary\n",
      "8. Exit\n"
     ]
    },
    {
     "name": "stdin",
     "output_type": "stream",
     "text": [
      "Enter your choice (1-8):  8\n"
     ]
    },
    {
     "name": "stdout",
     "output_type": "stream",
     "text": [
      "Thank you for using the Bank System. Goodbye!\n"
     ]
    }
   ],
   "source": [
    "import pickle\n",
    "import os\n",
    "import numpy as np\n",
    "from datetime import datetime\n",
    "\n",
    "# Global file paths.\n",
    "ACCOUNTS_FILE = 'accounts.pkl'\n",
    "TRANSACTIONS_FILE = 'transactions.pkl'\n",
    "\n",
    "# Load or initialize data.\n",
    "def load_data(file):\n",
    "    if os.path.exists(file):\n",
    "        with open(file, 'rb') as f:\n",
    "            return pickle.load(f)\n",
    "    return {}\n",
    "\n",
    "accounts = load_data(ACCOUNTS_FILE)\n",
    "transactions = load_data(TRANSACTIONS_FILE)\n",
    "\n",
    "# Auto-Generate account number.\n",
    "def generate_account_number():\n",
    "    return str(1000 + len(accounts) + 1)\n",
    "\n",
    "# Save data to file.\n",
    "def save_data():\n",
    "    with open(ACCOUNTS_FILE, 'wb') as f:\n",
    "        pickle.dump(accounts, f)\n",
    "    with open(TRANSACTIONS_FILE, 'wb') as f:\n",
    "        pickle.dump(transactions, f)\n",
    "\n",
    "# Create new account for Customer.\n",
    "def create_account():\n",
    "    name = input(\"Enter account holder's name: \")\n",
    "    acc_type = input(\"Enter account type (savings/current): \").lower()\n",
    "    while acc_type not in ['savings', 'current']:\n",
    "        print(\"Invalid type. Please enter 'savings' or 'current'.\")\n",
    "        acc_type = input(\"Enter account type (savings/current): \").lower()\n",
    "\n",
    "    try:\n",
    "        initial_balance = float(input(\"Enter initial balance: \"))\n",
    "        if initial_balance < 0:\n",
    "            raise ValueError\n",
    "    except ValueError:\n",
    "        print(\"Invalid amount. Setting initial balance to 0.\")\n",
    "        initial_balance = 0.0\n",
    "\n",
    "    acc_number = generate_account_number()\n",
    "    accounts[acc_number] = {\n",
    "        'name': name,\n",
    "        'type': acc_type,\n",
    "        'balance': initial_balance\n",
    "    }\n",
    "    transactions[acc_number] = []\n",
    "    print(f\"\\nAccount created successfully! Your account number is: {acc_number}\")\n",
    "\n",
    "# Display Customer account details.\n",
    "def view_account():\n",
    "    acc_number = input(\"Enter account number: \")\n",
    "    acc = accounts.get(acc_number)\n",
    "    if acc:\n",
    "        print(\"\\n--- Account Details ---\")\n",
    "        print(f\"Name     : {acc['name']}\")\n",
    "        print(f\"Type     : {acc['type']}\")\n",
    "        print(f\"Balance  : ₹{acc['balance']:.2f}\")\n",
    "    else:\n",
    "        print(\"Account not found.\")\n",
    "\n",
    "# Record a transaction.\n",
    "def record_transaction(acc_number, txn_type, amount, to_acc=None):\n",
    "    txn = {\n",
    "        'date': datetime.now().strftime(\"%Y-%m-%d %H:%M:%S\"),\n",
    "        'type': txn_type,\n",
    "        'amount': amount\n",
    "    }\n",
    "    if to_acc:\n",
    "        txn['to_account'] = to_acc\n",
    "    transactions[acc_number].append(txn)\n",
    "\n",
    "# Function to deposit money in Bank Account.\n",
    "def deposit():\n",
    "    acc_number = input(\"Enter account number: \")\n",
    "    if acc_number in accounts:\n",
    "        try:\n",
    "            amount = float(input(\"Enter amount to deposit: \"))\n",
    "            if amount <= 0:\n",
    "                raise ValueError\n",
    "            accounts[acc_number]['balance'] += amount\n",
    "            record_transaction(acc_number, 'deposit', amount)\n",
    "            print(\"Deposit successful.\")\n",
    "        except ValueError:\n",
    "            print(\"Invalid amount.\")\n",
    "    else:\n",
    "        print(\"Account not found.\")\n",
    "\n",
    "# Function to withdraw money from Bank Account.\n",
    "def withdraw():\n",
    "    acc_number = input(\"Enter account number: \")\n",
    "    if acc_number in accounts:\n",
    "        try:\n",
    "            amount = float(input(\"Enter amount to withdraw: \"))\n",
    "            if amount <= 0:\n",
    "                raise ValueError\n",
    "            if amount > accounts[acc_number]['balance']:\n",
    "                print(\"Insufficient funds.\")\n",
    "            else:\n",
    "                accounts[acc_number]['balance'] -= amount\n",
    "                record_transaction(acc_number, 'withdrawal', amount)\n",
    "                print(\"Withdrawal successful.\")\n",
    "        except ValueError:\n",
    "            print(\"Invalid amount.\")\n",
    "    else:\n",
    "        print(\"Account not found.\")\n",
    "\n",
    "# Function to transfer money from one Bank Account to another.\n",
    "def transfer():\n",
    "    from_acc = input(\"Enter sender's account number: \")\n",
    "    to_acc = input(\"Enter recipient's account number: \")\n",
    "    if from_acc in accounts and to_acc in accounts:\n",
    "        try:\n",
    "            amount = float(input(\"Enter amount to transfer: \"))\n",
    "            if amount <= 0:\n",
    "                raise ValueError\n",
    "            if amount > accounts[from_acc]['balance']:\n",
    "                print(\"Insufficient funds.\")\n",
    "            else:\n",
    "                accounts[from_acc]['balance'] -= amount\n",
    "                accounts[to_acc]['balance'] += amount\n",
    "                record_transaction(from_acc, 'transfer', amount, to_acc)\n",
    "                record_transaction(to_acc, 'received', amount, from_acc)\n",
    "                print(\"Transfer successful.\")\n",
    "        except ValueError:\n",
    "            print(\"Invalid amount.\")\n",
    "    else:\n",
    "        print(\"One or both accounts not found.\")\n",
    "\n",
    "# View transaction history.\n",
    "def view_transactions():\n",
    "    acc_number = input(\"Enter account number: \")\n",
    "    if acc_number in transactions:\n",
    "        txns = transactions[acc_number]\n",
    "        if not txns:\n",
    "            print(\"No transactions found.\")\n",
    "            return\n",
    "        print(\"\\n--- Transaction History ---\")\n",
    "        for txn in txns:\n",
    "            print(f\"{txn['date']} | {txn['type']} | ₹{txn['amount']:.2f}\", end='')\n",
    "            if 'to_account' in txn:\n",
    "                print(f\" | To/From: {txn['to_account']}\", end='')\n",
    "            print()\n",
    "    else:\n",
    "        print(\"Account not found.\")\n",
    "\n",
    "# Generate summary with NumPy.\n",
    "def generate_summary():\n",
    "    acc_number = input(\"Enter account number: \")\n",
    "    if acc_number in transactions:\n",
    "        amounts = [txn['amount'] for txn in transactions[acc_number]]\n",
    "        if not amounts:\n",
    "            print(\"No transactions to summarize.\")\n",
    "            return\n",
    "        types = [txn['type'] for txn in transactions[acc_number]]\n",
    "        deposits = [amt for amt, t in zip(amounts, types) if t == 'deposit']\n",
    "        withdrawals = [amt for amt, t in zip(amounts, types) if t == 'withdrawal']\n",
    "\n",
    "        print(\"\\n--- Transaction Summary ---\")\n",
    "        print(f\"Total Deposits     : ₹{np.sum(deposits):.2f}\")\n",
    "        print(f\"Total Withdrawals  : ₹{np.sum(withdrawals):.2f}\")\n",
    "        print(f\"Average Transaction: ₹{np.mean(amounts):.2f}\")\n",
    "    else:\n",
    "        print(\"Account not found.\")\n",
    "\n",
    "# Code to show Menu.\n",
    "def main():\n",
    "    while True:\n",
    "        print(\"\\n===== Bank Account Management System =====\")\n",
    "        print(\"1. Open New Account\")\n",
    "        print(\"2. View Account Details\")\n",
    "        print(\"3. Deposit\")\n",
    "        print(\"4. Withdraw\")\n",
    "        print(\"5. Transfer\")\n",
    "        print(\"6. View Transaction History\")\n",
    "        print(\"7. Transaction Summary\")\n",
    "        print(\"8. Exit\")\n",
    "        choice = input(\"Enter your choice (1-8): \")\n",
    "\n",
    "        if choice == '1':\n",
    "            create_account()\n",
    "        elif choice == '2':\n",
    "            view_account()\n",
    "        elif choice == '3':\n",
    "            deposit()\n",
    "        elif choice == '4':\n",
    "            withdraw()\n",
    "        elif choice == '5':\n",
    "            transfer()\n",
    "        elif choice == '6':\n",
    "            view_transactions()\n",
    "        elif choice == '7':\n",
    "            generate_summary()\n",
    "        elif choice == '8':\n",
    "            save_data()\n",
    "            print(\"Thank you for using the Bank System. Goodbye!\")\n",
    "            break\n",
    "        else:\n",
    "            print(\"Invalid choice. Try again.\")\n",
    "\n",
    "# Run the program.\n",
    "if __name__ == \"__main__\":\n",
    "    main()"
   ]
  },
  {
   "cell_type": "code",
   "execution_count": null,
   "id": "de370a1c-23d8-440c-b7a9-f1c09719ab80",
   "metadata": {},
   "outputs": [],
   "source": []
  }
 ],
 "metadata": {
  "kernelspec": {
   "display_name": "Python 3 (ipykernel)",
   "language": "python",
   "name": "python3"
  },
  "language_info": {
   "codemirror_mode": {
    "name": "ipython",
    "version": 3
   },
   "file_extension": ".py",
   "mimetype": "text/x-python",
   "name": "python",
   "nbconvert_exporter": "python",
   "pygments_lexer": "ipython3",
   "version": "3.13.5"
  }
 },
 "nbformat": 4,
 "nbformat_minor": 5
}
